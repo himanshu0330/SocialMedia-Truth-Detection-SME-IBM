{
  "cells": [
    {
      "cell_type": "markdown",
      "metadata": {
        "id": "EYT4menAk28r"
      },
      "source": [
        "\n",
        "# Challenge: Can AI be a social media truth warrior?"
      ]
    },
    {
      "cell_type": "markdown",
      "metadata": {
        "id": "sk-xV9gZle1A"
      },
      "source": [
        "## Social media platforms are battlegrounds for information, but not all information is created equal. Misinformation and harmful content spread like wildfire, eroding trust, and sometimes even inciting real-world harm. Can AI be our champion in this fight?\n",
        "##Your mission: Design a neural network, the ultimate \"Truth Detector,\" to tackle misinformation on social media:\n",
        "### Spot the fakes: Analyze text and visuals (images, videos) to identify potential misinformation, considering various formats and tactics used by creators.\n",
        "Think critically: Don't just rely on keywords, delve deeper into context, sentiment, and source credibility to avoid flagging legitimate content.\n",
        "Be fair and unbiased: Mitigate biases in data and algorithms to ensure your Truth Detector doesn't become a censorship machine, upholding freedom of expression while protecting users from harm.\n",
        "Bonus: Design mechanisms for users to provide feedback and appeal flagged content, fostering transparency and trust in the system.\n",
        "Ready to unleash your Truth Detector and build a healthier online space?\n"
      ]
    },
    {
      "cell_type": "markdown",
      "metadata": {
        "id": "IpGysQzEk48-"
      },
      "source": [
        "# Installing Kaggle"
      ]
    },
    {
      "cell_type": "code",
      "execution_count": 1,
      "metadata": {
        "colab": {
          "base_uri": "https://localhost:8080/"
        },
        "id": "vBcst0ccUSxr",
        "outputId": "8137c6cc-2e57-49a9-c0a8-c67b878dc1b6"
      },
      "outputs": [
        {
          "output_type": "stream",
          "name": "stdout",
          "text": [
            "Requirement already satisfied: kaggle in /usr/local/lib/python3.10/dist-packages (1.5.16)\n",
            "Requirement already satisfied: six>=1.10 in /usr/local/lib/python3.10/dist-packages (from kaggle) (1.16.0)\n",
            "Requirement already satisfied: certifi in /usr/local/lib/python3.10/dist-packages (from kaggle) (2024.2.2)\n",
            "Requirement already satisfied: python-dateutil in /usr/local/lib/python3.10/dist-packages (from kaggle) (2.8.2)\n",
            "Requirement already satisfied: requests in /usr/local/lib/python3.10/dist-packages (from kaggle) (2.31.0)\n",
            "Requirement already satisfied: tqdm in /usr/local/lib/python3.10/dist-packages (from kaggle) (4.66.2)\n",
            "Requirement already satisfied: python-slugify in /usr/local/lib/python3.10/dist-packages (from kaggle) (8.0.4)\n",
            "Requirement already satisfied: urllib3 in /usr/local/lib/python3.10/dist-packages (from kaggle) (2.0.7)\n",
            "Requirement already satisfied: bleach in /usr/local/lib/python3.10/dist-packages (from kaggle) (6.1.0)\n",
            "Requirement already satisfied: webencodings in /usr/local/lib/python3.10/dist-packages (from bleach->kaggle) (0.5.1)\n",
            "Requirement already satisfied: text-unidecode>=1.3 in /usr/local/lib/python3.10/dist-packages (from python-slugify->kaggle) (1.3)\n",
            "Requirement already satisfied: charset-normalizer<4,>=2 in /usr/local/lib/python3.10/dist-packages (from requests->kaggle) (3.3.2)\n",
            "Requirement already satisfied: idna<4,>=2.5 in /usr/local/lib/python3.10/dist-packages (from requests->kaggle) (3.6)\n"
          ]
        }
      ],
      "source": [
        "!pip install kaggle"
      ]
    },
    {
      "cell_type": "code",
      "execution_count": 2,
      "metadata": {
        "id": "5iaM8_xMWFkJ"
      },
      "outputs": [],
      "source": [
        "! mkdir ~/.kaggle"
      ]
    },
    {
      "cell_type": "code",
      "execution_count": 3,
      "metadata": {
        "id": "YLb3QZH_WQw_"
      },
      "outputs": [],
      "source": [
        "! cp kaggle.json ~/.kaggle"
      ]
    },
    {
      "cell_type": "markdown",
      "metadata": {
        "id": "zirzpWIWlAd8"
      },
      "source": [
        "# Fetching DataSet API"
      ]
    },
    {
      "cell_type": "code",
      "execution_count": 4,
      "metadata": {
        "colab": {
          "base_uri": "https://localhost:8080/"
        },
        "id": "ZSj9_6KIbHyU",
        "outputId": "27e95213-05a1-4d2a-ec5a-367834c4d1c9"
      },
      "outputs": [
        {
          "output_type": "stream",
          "name": "stdout",
          "text": [
            "Warning: Your Kaggle API key is readable by other users on this system! To fix this, you can run 'chmod 600 /root/.kaggle/kaggle.json'\n",
            "Downloading misinformation-fake-news-text-dataset-79k.zip to /content\n",
            " 83% 70.0M/84.6M [00:00<00:00, 138MB/s]\n",
            "100% 84.6M/84.6M [00:00<00:00, 137MB/s]\n"
          ]
        }
      ],
      "source": [
        "! kaggle datasets download -d stevenpeutz/misinformation-fake-news-text-dataset-79k\n",
        "# FETCH THE API COMMAND OF THE DATASET FROM KAGGLE"
      ]
    },
    {
      "cell_type": "markdown",
      "metadata": {
        "id": "QxPY6T_vlJ6N"
      },
      "source": [
        " # Unzipping DataSet"
      ]
    },
    {
      "cell_type": "code",
      "execution_count": 5,
      "metadata": {
        "id": "kSxTQlRYbYD8"
      },
      "outputs": [],
      "source": [
        "! unzip -qq /content/misinformation-fake-news-text-dataset-79k.zip"
      ]
    },
    {
      "cell_type": "code",
      "execution_count": 6,
      "metadata": {
        "id": "WR8qETSvcVzs"
      },
      "outputs": [],
      "source": [
        "!rm /content/EXTRA_RussianPropagandaSubset.csv"
      ]
    },
    {
      "cell_type": "markdown",
      "metadata": {
        "id": "-aKADRCxlRR0"
      },
      "source": [
        "# IMPORTING LIBRARIES"
      ]
    },
    {
      "cell_type": "code",
      "execution_count": 7,
      "metadata": {
        "colab": {
          "base_uri": "https://localhost:8080/"
        },
        "id": "rnOoGC1LbnMP",
        "outputId": "56ae9539-4073-4159-cb6f-a7eae894f2f7"
      },
      "outputs": [
        {
          "output_type": "stream",
          "name": "stderr",
          "text": [
            "[nltk_data] Downloading package stopwords to /root/nltk_data...\n",
            "[nltk_data]   Unzipping corpora/stopwords.zip.\n",
            "[nltk_data] Downloading package punkt to /root/nltk_data...\n",
            "[nltk_data]   Unzipping tokenizers/punkt.zip.\n"
          ]
        },
        {
          "output_type": "execute_result",
          "data": {
            "text/plain": [
              "True"
            ]
          },
          "metadata": {},
          "execution_count": 7
        }
      ],
      "source": [
        "import numpy as np\n",
        "import pandas as pd\n",
        "import nltk\n",
        "nltk.download('stopwords')\n",
        "nltk.download('punkt')"
      ]
    },
    {
      "cell_type": "code",
      "execution_count": 8,
      "metadata": {
        "id": "tOJTgjJnbpq_"
      },
      "outputs": [],
      "source": [
        "import warnings\n",
        "warnings.filterwarnings('ignore')\n",
        "\n",
        "import matplotlib.pyplot as plt\n",
        "import seaborn as sns\n",
        "import nltk\n",
        "import re\n",
        "\n",
        "from tensorflow.keras.preprocessing.text import Tokenizer\n",
        "from tensorflow.keras.preprocessing.sequence import pad_sequences\n",
        "from tensorflow.keras.models import Sequential\n",
        "from tensorflow.keras.layers import Dense, Embedding, LSTM, Conv1D, MaxPool1D\n",
        "from sklearn.model_selection import train_test_split\n",
        "from sklearn.metrics import classification_report, accuracy_score\n",
        "\n",
        "import gensim"
      ]
    },
    {
      "cell_type": "markdown",
      "metadata": {
        "id": "aXGzjcAVkq05"
      },
      "source": [
        "# READING DATASETS"
      ]
    },
    {
      "cell_type": "code",
      "execution_count": 9,
      "metadata": {
        "id": "qF3pwJYObt4x"
      },
      "outputs": [],
      "source": [
        "df_true=pd.read_csv('/content/DataSet_Misinfo_TRUE.csv')\n",
        "df_fake=pd.read_csv('/content/DataSet_Misinfo_FAKE.csv')"
      ]
    },
    {
      "cell_type": "markdown",
      "metadata": {
        "id": "94pDhQWgknhR"
      },
      "source": [
        "# DATA CLEANING\n",
        "\n"
      ]
    },
    {
      "cell_type": "code",
      "execution_count": 10,
      "metadata": {
        "colab": {
          "base_uri": "https://localhost:8080/",
          "height": 206
        },
        "id": "4z3c16Bob4qW",
        "outputId": "ede82580-513d-446f-8759-2793d951cf2d"
      },
      "outputs": [
        {
          "output_type": "execute_result",
          "data": {
            "text/plain": [
              "                                                text  label\n",
              "0  The head of a conservative Republican faction ...      1\n",
              "1  Transgender people will be allowed for the fir...      1\n",
              "2  The special counsel investigation of links bet...      1\n",
              "3  Trump campaign adviser George Papadopoulos tol...      1\n",
              "4  President Donald Trump called on the U.S. Post...      1"
            ],
            "text/html": [
              "\n",
              "  <div id=\"df-b69e2bf3-f2b5-4662-a88e-5a483e0c3fae\" class=\"colab-df-container\">\n",
              "    <div>\n",
              "<style scoped>\n",
              "    .dataframe tbody tr th:only-of-type {\n",
              "        vertical-align: middle;\n",
              "    }\n",
              "\n",
              "    .dataframe tbody tr th {\n",
              "        vertical-align: top;\n",
              "    }\n",
              "\n",
              "    .dataframe thead th {\n",
              "        text-align: right;\n",
              "    }\n",
              "</style>\n",
              "<table border=\"1\" class=\"dataframe\">\n",
              "  <thead>\n",
              "    <tr style=\"text-align: right;\">\n",
              "      <th></th>\n",
              "      <th>text</th>\n",
              "      <th>label</th>\n",
              "    </tr>\n",
              "  </thead>\n",
              "  <tbody>\n",
              "    <tr>\n",
              "      <th>0</th>\n",
              "      <td>The head of a conservative Republican faction ...</td>\n",
              "      <td>1</td>\n",
              "    </tr>\n",
              "    <tr>\n",
              "      <th>1</th>\n",
              "      <td>Transgender people will be allowed for the fir...</td>\n",
              "      <td>1</td>\n",
              "    </tr>\n",
              "    <tr>\n",
              "      <th>2</th>\n",
              "      <td>The special counsel investigation of links bet...</td>\n",
              "      <td>1</td>\n",
              "    </tr>\n",
              "    <tr>\n",
              "      <th>3</th>\n",
              "      <td>Trump campaign adviser George Papadopoulos tol...</td>\n",
              "      <td>1</td>\n",
              "    </tr>\n",
              "    <tr>\n",
              "      <th>4</th>\n",
              "      <td>President Donald Trump called on the U.S. Post...</td>\n",
              "      <td>1</td>\n",
              "    </tr>\n",
              "  </tbody>\n",
              "</table>\n",
              "</div>\n",
              "    <div class=\"colab-df-buttons\">\n",
              "\n",
              "  <div class=\"colab-df-container\">\n",
              "    <button class=\"colab-df-convert\" onclick=\"convertToInteractive('df-b69e2bf3-f2b5-4662-a88e-5a483e0c3fae')\"\n",
              "            title=\"Convert this dataframe to an interactive table.\"\n",
              "            style=\"display:none;\">\n",
              "\n",
              "  <svg xmlns=\"http://www.w3.org/2000/svg\" height=\"24px\" viewBox=\"0 -960 960 960\">\n",
              "    <path d=\"M120-120v-720h720v720H120Zm60-500h600v-160H180v160Zm220 220h160v-160H400v160Zm0 220h160v-160H400v160ZM180-400h160v-160H180v160Zm440 0h160v-160H620v160ZM180-180h160v-160H180v160Zm440 0h160v-160H620v160Z\"/>\n",
              "  </svg>\n",
              "    </button>\n",
              "\n",
              "  <style>\n",
              "    .colab-df-container {\n",
              "      display:flex;\n",
              "      gap: 12px;\n",
              "    }\n",
              "\n",
              "    .colab-df-convert {\n",
              "      background-color: #E8F0FE;\n",
              "      border: none;\n",
              "      border-radius: 50%;\n",
              "      cursor: pointer;\n",
              "      display: none;\n",
              "      fill: #1967D2;\n",
              "      height: 32px;\n",
              "      padding: 0 0 0 0;\n",
              "      width: 32px;\n",
              "    }\n",
              "\n",
              "    .colab-df-convert:hover {\n",
              "      background-color: #E2EBFA;\n",
              "      box-shadow: 0px 1px 2px rgba(60, 64, 67, 0.3), 0px 1px 3px 1px rgba(60, 64, 67, 0.15);\n",
              "      fill: #174EA6;\n",
              "    }\n",
              "\n",
              "    .colab-df-buttons div {\n",
              "      margin-bottom: 4px;\n",
              "    }\n",
              "\n",
              "    [theme=dark] .colab-df-convert {\n",
              "      background-color: #3B4455;\n",
              "      fill: #D2E3FC;\n",
              "    }\n",
              "\n",
              "    [theme=dark] .colab-df-convert:hover {\n",
              "      background-color: #434B5C;\n",
              "      box-shadow: 0px 1px 3px 1px rgba(0, 0, 0, 0.15);\n",
              "      filter: drop-shadow(0px 1px 2px rgba(0, 0, 0, 0.3));\n",
              "      fill: #FFFFFF;\n",
              "    }\n",
              "  </style>\n",
              "\n",
              "    <script>\n",
              "      const buttonEl =\n",
              "        document.querySelector('#df-b69e2bf3-f2b5-4662-a88e-5a483e0c3fae button.colab-df-convert');\n",
              "      buttonEl.style.display =\n",
              "        google.colab.kernel.accessAllowed ? 'block' : 'none';\n",
              "\n",
              "      async function convertToInteractive(key) {\n",
              "        const element = document.querySelector('#df-b69e2bf3-f2b5-4662-a88e-5a483e0c3fae');\n",
              "        const dataTable =\n",
              "          await google.colab.kernel.invokeFunction('convertToInteractive',\n",
              "                                                    [key], {});\n",
              "        if (!dataTable) return;\n",
              "\n",
              "        const docLinkHtml = 'Like what you see? Visit the ' +\n",
              "          '<a target=\"_blank\" href=https://colab.research.google.com/notebooks/data_table.ipynb>data table notebook</a>'\n",
              "          + ' to learn more about interactive tables.';\n",
              "        element.innerHTML = '';\n",
              "        dataTable['output_type'] = 'display_data';\n",
              "        await google.colab.output.renderOutput(dataTable, element);\n",
              "        const docLink = document.createElement('div');\n",
              "        docLink.innerHTML = docLinkHtml;\n",
              "        element.appendChild(docLink);\n",
              "      }\n",
              "    </script>\n",
              "  </div>\n",
              "\n",
              "\n",
              "<div id=\"df-2b6c136f-16b0-4799-8b16-a14d23151c5d\">\n",
              "  <button class=\"colab-df-quickchart\" onclick=\"quickchart('df-2b6c136f-16b0-4799-8b16-a14d23151c5d')\"\n",
              "            title=\"Suggest charts\"\n",
              "            style=\"display:none;\">\n",
              "\n",
              "<svg xmlns=\"http://www.w3.org/2000/svg\" height=\"24px\"viewBox=\"0 0 24 24\"\n",
              "     width=\"24px\">\n",
              "    <g>\n",
              "        <path d=\"M19 3H5c-1.1 0-2 .9-2 2v14c0 1.1.9 2 2 2h14c1.1 0 2-.9 2-2V5c0-1.1-.9-2-2-2zM9 17H7v-7h2v7zm4 0h-2V7h2v10zm4 0h-2v-4h2v4z\"/>\n",
              "    </g>\n",
              "</svg>\n",
              "  </button>\n",
              "\n",
              "<style>\n",
              "  .colab-df-quickchart {\n",
              "      --bg-color: #E8F0FE;\n",
              "      --fill-color: #1967D2;\n",
              "      --hover-bg-color: #E2EBFA;\n",
              "      --hover-fill-color: #174EA6;\n",
              "      --disabled-fill-color: #AAA;\n",
              "      --disabled-bg-color: #DDD;\n",
              "  }\n",
              "\n",
              "  [theme=dark] .colab-df-quickchart {\n",
              "      --bg-color: #3B4455;\n",
              "      --fill-color: #D2E3FC;\n",
              "      --hover-bg-color: #434B5C;\n",
              "      --hover-fill-color: #FFFFFF;\n",
              "      --disabled-bg-color: #3B4455;\n",
              "      --disabled-fill-color: #666;\n",
              "  }\n",
              "\n",
              "  .colab-df-quickchart {\n",
              "    background-color: var(--bg-color);\n",
              "    border: none;\n",
              "    border-radius: 50%;\n",
              "    cursor: pointer;\n",
              "    display: none;\n",
              "    fill: var(--fill-color);\n",
              "    height: 32px;\n",
              "    padding: 0;\n",
              "    width: 32px;\n",
              "  }\n",
              "\n",
              "  .colab-df-quickchart:hover {\n",
              "    background-color: var(--hover-bg-color);\n",
              "    box-shadow: 0 1px 2px rgba(60, 64, 67, 0.3), 0 1px 3px 1px rgba(60, 64, 67, 0.15);\n",
              "    fill: var(--button-hover-fill-color);\n",
              "  }\n",
              "\n",
              "  .colab-df-quickchart-complete:disabled,\n",
              "  .colab-df-quickchart-complete:disabled:hover {\n",
              "    background-color: var(--disabled-bg-color);\n",
              "    fill: var(--disabled-fill-color);\n",
              "    box-shadow: none;\n",
              "  }\n",
              "\n",
              "  .colab-df-spinner {\n",
              "    border: 2px solid var(--fill-color);\n",
              "    border-color: transparent;\n",
              "    border-bottom-color: var(--fill-color);\n",
              "    animation:\n",
              "      spin 1s steps(1) infinite;\n",
              "  }\n",
              "\n",
              "  @keyframes spin {\n",
              "    0% {\n",
              "      border-color: transparent;\n",
              "      border-bottom-color: var(--fill-color);\n",
              "      border-left-color: var(--fill-color);\n",
              "    }\n",
              "    20% {\n",
              "      border-color: transparent;\n",
              "      border-left-color: var(--fill-color);\n",
              "      border-top-color: var(--fill-color);\n",
              "    }\n",
              "    30% {\n",
              "      border-color: transparent;\n",
              "      border-left-color: var(--fill-color);\n",
              "      border-top-color: var(--fill-color);\n",
              "      border-right-color: var(--fill-color);\n",
              "    }\n",
              "    40% {\n",
              "      border-color: transparent;\n",
              "      border-right-color: var(--fill-color);\n",
              "      border-top-color: var(--fill-color);\n",
              "    }\n",
              "    60% {\n",
              "      border-color: transparent;\n",
              "      border-right-color: var(--fill-color);\n",
              "    }\n",
              "    80% {\n",
              "      border-color: transparent;\n",
              "      border-right-color: var(--fill-color);\n",
              "      border-bottom-color: var(--fill-color);\n",
              "    }\n",
              "    90% {\n",
              "      border-color: transparent;\n",
              "      border-bottom-color: var(--fill-color);\n",
              "    }\n",
              "  }\n",
              "</style>\n",
              "\n",
              "  <script>\n",
              "    async function quickchart(key) {\n",
              "      const quickchartButtonEl =\n",
              "        document.querySelector('#' + key + ' button');\n",
              "      quickchartButtonEl.disabled = true;  // To prevent multiple clicks.\n",
              "      quickchartButtonEl.classList.add('colab-df-spinner');\n",
              "      try {\n",
              "        const charts = await google.colab.kernel.invokeFunction(\n",
              "            'suggestCharts', [key], {});\n",
              "      } catch (error) {\n",
              "        console.error('Error during call to suggestCharts:', error);\n",
              "      }\n",
              "      quickchartButtonEl.classList.remove('colab-df-spinner');\n",
              "      quickchartButtonEl.classList.add('colab-df-quickchart-complete');\n",
              "    }\n",
              "    (() => {\n",
              "      let quickchartButtonEl =\n",
              "        document.querySelector('#df-2b6c136f-16b0-4799-8b16-a14d23151c5d button');\n",
              "      quickchartButtonEl.style.display =\n",
              "        google.colab.kernel.accessAllowed ? 'block' : 'none';\n",
              "    })();\n",
              "  </script>\n",
              "</div>\n",
              "\n",
              "    </div>\n",
              "  </div>\n"
            ],
            "application/vnd.google.colaboratory.intrinsic+json": {
              "type": "dataframe",
              "variable_name": "df_true",
              "summary": "{\n  \"name\": \"df_true\",\n  \"rows\": 34975,\n  \"fields\": [\n    {\n      \"column\": \"text\",\n      \"properties\": {\n        \"dtype\": \"string\",\n        \"samples\": [\n          \"People who don't believe that unauthorized immigrants in the US should be given legal status tend to emphasize that it would be unfair to immigrants who are in the US legally \\u2014 because they deserve a reward for settling in the US \\\"the right way.\\\"\\n\\nBut what if the legal immigration process is itself unfair?\\n\\nA new study by researchers at MIT and Brown University suggest that might be what's going on \\u2014 unintentionally. They looked at applications for employment-based green cards among immigrants who were already in the US. What they found was that, in the standard approval process, Latin American immigrants were much less likely than average to get approved \\u2014 and Asian immigrants were more likely. But when the government went through a slower but more complete approval process, the disparities disappeared.\\n\\nFor this study, the researchers (Emilio J. Castilla of MIT, and Ben A. Rissing of Brown) evaluated the phase in an application for an employment-based green card where the US Department of Labor has to approve or deny the immigrant's \\\"labor certification\\\" for a particular job. These applications get filed when a company decides to take an immigrant who's (almost always) already in the country on a temporary visa \\u2014 like a work visa or student visa \\u2014 and sponsor him or her for a green card, which would let him or her stay in the US permanently and eventually apply for citizenship. So this is the phase in the process where temporary immigrants can get approved to become permanent ones.\\n\\nTechnically, this is supposed to be evaluating the immigrant's would-be employer, not the immigrant him- or herself. In order to get the immigrant \\\"labor certified\\\" for a green card \\u2014 or any work visa \\u2014 the would-be employer has to prove that they tried to find a US citizen to fill the job, but failed.\\n\\nOne thing that isn't supposed to be a factor in the application is the immigrant's country of origin. But even when the researchers controlled for as many variables as they could \\u2014 from the temporary visa that an immigrant held in the US when he filed the green-card application, to the skill level of the job \\u2014 they found that approval rates varied widely from one nationality to the next. 90.5 percent of Asian immigrants were approved for labor certification. But only 66.8 percent of Latin American immigrants were.\\n\\nThe regional disparity even showed up in immigrants applying for the same type of job. \\\"Immigrants from Asia seeking employment as restaurant cooks are 41.6 percent more likely to be approved than immigrants from Latin America, all else being equal,\\\" the researchers write. It's a problem for high-skilled workers, too: Asian immigrants weren't any more likely than Canadians (for example) to get approved to work as computer software engineers, but Latin American immigrants were over 25 percent less likely.\\n\\nThe biggest problem with the study: the government agents looking over immigrants' applications could see each immigrant's educational background, but the researchers couldn't. That could be a huge factor explaining the variation: maybe Latin American immigrants are simply less educationally qualified for the positions they're applying for.\\n\\nBut the study indicates that can't be the whole story. For example, the researchers looked at immigrants who were already on H1-B high-skilled visas (99 percent of whom have a bachelor's degree or higher) but were applying to upgrade to green cards. Among that group, Asian immigrants were still 11 percent more likely than Canadians to get approved for green cards \\u2014 and H1B-holding Latin American immigrants were 20 percent less likely.\\n\\nThere's also previous research showing that government officials profile immigrants based on their countries of origin. In one study, in which officials were asked to look over fictional visa applications, the author said that region of origin was being used strongly as a \\\"criterion of a visa applicant's desirability.\\\"\\n\\nMost of the time, the DOL makes decisions based on basic information about the immigrant, the job, and the employer, as well as evidence of the employer's failed attempt to recruit US citizens. 90 percent of those cases get approved, and they're typically approved or denied in under 4 months. But in a few cases \\u2014 thanks to a process that is partly random, and partly not \\u2014 applications are \\\"audited,\\\" and agents take a more in-depth look at an immigrant's background, and the requirements for the position. In those cases, only 57 percent of applications are approved \\u2014 and it takes about 2 years to come to a decision.\\n\\nAccording to the new study, audited applications had one big advantage over non-audited ones: the disparities in approval rates between immigrants from different regions disappeared. That might indicate that whatever is happening to favor Asian immigrants and disfavor Latin American ones in the quicker process is unintentional, since government officials don't appear to think there's good reason to be more suspicious of Latin American applicants.\\n\\nThe study's authors suggest an easy fix: making it impossible for an official to see an applicant's country of origin, just like officials aren't allowed to see applicants' ages or sexes. If this really is a significant problem, however, it's not something that changing the process in the future will be able to fix.\\n\\nIf the government is really making it harder for Latin American immigrants currently in the US legally to get green cards through their employers, they're unfairly forcing Latin American immigrants to make the difficult choice between leaving the country they've been living in for years, and staying in the US after their visas expire. In other words, the government's approval-rate problem might be driving more legal Latin American immigrants to become illegal.\",\n          \"U.S. House Speaker Paul Ryan on Wednesday called on health insurance companies to \\u201cstick it out\\u201d in the Obamacare marketplace despite concerns over its stability, saying  Republicans are continuing their push to replace current law. Speaking in an interview with Axios news outlet, Ryan said he could not address ongoing litigation over the fate of the Obamacare cost-sharing subsidies but that he has encouraged insurers to still participate in 2018.\",\n          \"Back in June, I first saw Mr. Trump announcing his candidacy for president. What he said about unauthorized\\u00a0immigrants seemed ridiculous so I laughed. I showed the video to friends, and I laughed again. His words were poorly chosen.\\n\\nBut something worse happened. People interpreted Trump\\u2019s words in the most awful and offensive ways.\\n\\nIn one of my courses, at the University of Texas at Austin, I asked my students: \\u201cWhat has Donald Trump said that you found most offensive?\\u201d One student raised her hand high: \\u201cHe said that all Mexicans are rapists.\\u201d I asked a coworker the same question. He replied: \\u201cHe said that all Mexican immigrants are rapists.\\u201d\\n\\nI explained that Trump said no such thing. This is what Trump said:\\n\\nYou might well dislike Trump\\u2019s words. I did. But let\\u2019s not make it worse. He did not say that all Mexicans are rapists. Yet that\\u2019s what many commentators did. For example,\\u00a0Politico\\u00a0misquoted Trump by omitting his phrase about \\u201cgood people.\\u201d They said he was \\u201cdemonizing Mexicans as rapists.\\u201d They argued that Mexicans do not really commit more rapes in the U.S. than whites. But that\\u2019s not what Trump claimed.\\n\\nSimilarly, other news sources misrepresented his words in offensive ways:\\n\\nCompare such words with Trump\\u2019s words. Which is worse? Writers excerpted the phrase: \\u201cthey\\u2019re rapists,\\u201d as if it were about all Mexican unauthorized immigrants, or worse, about all Mexican immigrants, or even worst, about all Mexicans. But that\\u2019s not what he said. That\\u2019s not what he meant. It was just a remark about some of the criminals crossing the border.\\n\\nThe trick for misrepresenting Trump\\u2019s words can be used against anyone.\\n\\nFor example, on October 7, at a Democratic debate, Hillary Clinton answered the question: \\u201cWhich enemy are you most proud of?\\u201d She replied: \\u201cIn addition to the NRA, um, the health insurance companies, the drug companies, um, the Iranians.\\u201d\\n\\nIf you do to her what the media did to Trump, then you should believe that Hillary Clinton is proud to be the enemy of 77 million citizens of Iran, plus millions more living outside Iran, including mothers, children, and disabled people. But that\\u2019s not what she meant.\\n\\nOn November 6, at the MSNBC Democratic Candidates Forum, Bernie Sanders said: \\u201cwe have to pass a constitutional amendment that everyone in America who is 18 years old or older is registered to vote.\\u201d He said\\u00a0everyone. Someone might then write: \\u201cHe proposed that everyone who is in the U.S. should vote, everyone who is 18, even illegal immigrants, tourists, and terrorists.\\u201d But that\\u2019s not what he meant.\\n\\nIt is no wonder that many people think the media is grossly dishonest. No wonder Mr. Trump\\u2019s critiques of the media make his followers cheer.\\n\\nTrump was discussing crimes committed by unauthorized immigrants. Is it true that some people who illegally cross the border from Mexico are good? Yes. Is it true that some others commit crimes? Yes. Is that a problem? People disagree. Some conjecture that unauthorized immigrants don\\u2019t commit more crimes than U.S. citizens. But crimes by unauthorized immigrants, even murders, would not have happened if those individuals had not entered the U.S.\\n\\nTime for a disclosure. I was born and raised in Puerto Rico. Spanish is my first language. I voted for Obama. I live in liberal Austin, Texas, where I work as a tenured professor of history. I\\u2019ve never voted for a Republican. My preferred candidate for U.S. president would be Elizabeth Warren. Since she is not running, my preferred candidate is Bernie Sanders.\\n\\nAnyhow, discussions about illegal immigration are ruined by lack of data. I asked my friends, university faculty: \\u201cHow many people do you think are deported per year in the U.S.?\\u201d\\n\\nThere are two kinds of deportations: some are caught near the border and \\u201creturned,\\u201d others are \\u201cremoved\\u201d by a court order. Consider the border patrol agents, personnel, the bureaucracy, the lawyers, the resources needed to find people and deport them. How many were deported in 2014?\\n\\nOne of my friends guessed 3,000. Another guessed 10,000. Another guessed 50,000\\u2014which would really be a lot of people, imagine.\\n\\nActually, in fiscal year 2014, the U.S. deported a total of 893,238 foreigners! That\\u2019s a huge number. It includes 577,295 deported by the Department of Homeland Security, plus 315,943 deported by Immigration and Customs Enforcement. Among the latter, 2,802 were classified as suspected or confirmed gang members.\\n\\nSince 1990, the average is 1.2 million deportations per year. The highest in U.S. history was 1.86 million foreigners deported in the year 2000. That\\u2019s astonishing.\\n\\nHow many were criminals?\\n\\nWe don\\u2019t know because most criminals are not caught. Plus, many who are accused are not convicted because of a lack of evidence. Still, in 2014, the U.S. deported 177,960 convicted criminals. Surprisingly, 91,037 were already convicted criminals\\u00a0before\\u00a0they even entered the\\u00a0U.S.\\n\\nAt the University of Texas at Austin, the football stadium can seat 100,119 people. I have seen it full. I\\u2019ve see more than 100,000 people at once\\u2014it\\u2019s an incredible sight. It\\u2019s a staggering swarm of people. I have seen them yelling all at once.\\n\\nIt is utterly astonishing to me that this stadium would fail to seat all the convicted criminals deported in a single year. Back to Mr. Trump. Did he unfairly single out Mexicans when complaining about crimes by unauthorized immigrants? By far, most Mexicans are good people. However, since Mexico shares a large frontier with the U.S., and many Mexicans face economic hardships, most of the reported illegal immigration into the U.S. is from Mexico. Accordingly, in recent years roughly 76% of criminal unauthorized immigrants are from Mexico. What kinds of crime? It is strangely difficult to find national statistics on homicides, sexual assaults, and thefts, by unauthorized immigrants. But there is relevant data for some states. The Texas Department of Public Safety identified 207,076 foreign aliens who were booked into Texas county jails from October 2008 through August 1, 2014. Their term \\u201cforeign aliens\\u201d includes both foreigners who are in Texas legally and foreigners who entered illegally. They were accused of 357,884 crimes in those 70 months, including these charges: 4,413 terroristic threats, 60,973 robberies and larcenies, 6,636 vehicle thefts, 78,682 assaults, 12,869 sexual assaults and offenses, 1,113 kidnapping, and 3,089 homicides. That includes, an average of 1,383 charges of sexual assaults per year, in Texas alone. The real number of rapes and sexual assaults is larger since many victims do not report these crimes. According to the National Crime and Victimization Survey, 2008-2012, approximately 68% of sexual assault crimes are not reported. So I estimate that foreigners commit roughly 4,000 sexual assaults in Texas each year. In Texas, roughly 529 foreigners per year were accused of committing murder. Plus, the FBI reports that 36% of homicides nationwide remain unsolved. These crime rates are staggering and offensive. None of the women and men who were killed in by unauthorized immigrants in Texas would have died if the murderers had not entered the U.S. illegally. These are not just words. Pause for a moment to think about a Texas woman whose husband was murdered one night. Think about parents who never saw their son again because he was murdered. Think of the thousands of families standing at the cemeteries. I\\u2019ve only summarized murders and sexual assaults. Consider drugs and drug violence. According to the Drug Enforcement Administration, most illegal drugs come from Mexico, including most cocaine and heroine. Most methamphetamines also are smuggled from Mexico. The 2015 National Drug Threat Survey finds that methamphetamines are the drugs that most contribute to property crimes and violent crimes. You get the point. There are tremendous problems of drugs, murders, and rapes caused at the porous border. Without knowing the data, it was easy to be offended by Mr. Trump\\u2019s crude words when he announced his candidacy. However, seeing the data above, I understand his concerns. Here\\u2019s what Trump said right after his words quoted above: \\u201cAnd it only makes common sense, it only makes common sense: they\\u2019re sending us not the right people, and it\\u2019s coming from more than Mexico, it\\u2019s coming from all over South and Latin America, and it\\u2019s coming probably, probably from the Middle East. But we don\\u2019t know because we have no protection, and we have no competence. We don\\u2019t know what\\u2019s happening. And it\\u2019s gotta stop. And it\\u2019s gotta stop fast.\\u201d We can disagree about some points. Is the Mexican government really sending criminals to the U.S.? On July 5, Trump said: \\u201cThe Mexican Government is forcing their most unwanted people into the United States. They are, in many cases, criminals, drug dealers, rapists, etc.\\u201d This claim might be false if Mexico does not intentionally send criminals to the US. At its best, this statement seems plausible if Trump meant that conditions generated in Mexico by its government lead some criminals to the U.S. In any case, Trump proposes to secure the southern border by implementing various security measures. His most recurring proposal is to build a wall, along areas of the border lacking natural barriers. His proposal has been widely criticized. Some people construed it as a sign of racism, xenophobia, etc. However, I can understand why many of Trump\\u2019s followers actually cheer: \\u201cBuild the Wall! Build the Wall!\\u201d First, there are the worries about murders, drugs, crimes, and terrorism. Presently, countless many unauthorized immigrants walk into the country, unchecked. In fiscal year 2014, the Border Patrol made 468,407 apprehensions along the southwest border. By comparison, the Border Patrol only made 18,244 apprehensions in all other regions. But one point sticks in my mind. Namely this: there already exist a long series of fences and walls between Mexico and the U.S. These fences and walls span parts of California, Arizona, New Mexico, and Texas. As of early 2012, the Department of Homeland Security had completed 652 miles of fences and walls. Trump did not build all that. It was mandated by Congress. Walls are common along\\u00a0many countries\\u2019 borders, such as Spain, China, France, Greece, Pakistan,\\u00a0Israel, etc. The border between the U.S. and Mexico spans roughly 1,950 miles. Trump wants a wall that will be 1,000 miles long, including areas already covered. I\\u2019m not trying to convince you about a wall. My point is just that it\\u2019s neither impossible nor ridiculous. A main reason why many border areas have fences instead of walls is just that walls are more expensive. Trump says that everyone who didn\\u2019t enter the U.S. legally should return to their countries. \\u201cThey have to go.\\u201d We might well disagree. But his view is closer to Immigration law. If you prefer amnesty then lawmakers have to create a law to that effect. Trump insists: \\u201cI want people to come in, but they have to come in legally.\\u201d Regardless, countless many people think that Trump is racist against Mexicans. I suggest that anyone who thinks that should count how many times Trump has praised Mexicans. Most unauthorized immigrants are good people. But still, the media wrongly blamed Mr. Trump for their own misrepresentations.\"\n        ],\n        \"num_unique_values\": 34526,\n        \"semantic_type\": \"\",\n        \"description\": \"\"\n      }\n    },\n    {\n      \"column\": \"label\",\n      \"properties\": {\n        \"dtype\": \"number\",\n        \"std\": 0,\n        \"min\": 1,\n        \"max\": 1,\n        \"samples\": [\n          1\n        ],\n        \"num_unique_values\": 1,\n        \"semantic_type\": \"\",\n        \"description\": \"\"\n      }\n    }\n  ]\n}"
            }
          },
          "metadata": {},
          "execution_count": 10
        }
      ],
      "source": [
        "df_true['label']=1\n",
        "df_true=df_true.drop('Unnamed: 0',axis=1)\n",
        "df_true.head()"
      ]
    },
    {
      "cell_type": "code",
      "execution_count": 11,
      "metadata": {
        "colab": {
          "base_uri": "https://localhost:8080/",
          "height": 206
        },
        "id": "I0XWjuySb7CJ",
        "outputId": "7ce831e4-7e40-44b2-9337-184712e38675"
      },
      "outputs": [
        {
          "output_type": "execute_result",
          "data": {
            "text/plain": [
              "                                                text  label\n",
              "0  Donald Trump just couldn t wish all Americans ...      0\n",
              "1  House Intelligence Committee Chairman Devin Nu...      0\n",
              "2  On Friday, it was revealed that former Milwauk...      0\n",
              "3  On Christmas day, Donald Trump announced that ...      0\n",
              "4  Pope Francis used his annual Christmas Day mes...      0"
            ],
            "text/html": [
              "\n",
              "  <div id=\"df-69b4b9be-ee56-41bd-975a-f17f002e097c\" class=\"colab-df-container\">\n",
              "    <div>\n",
              "<style scoped>\n",
              "    .dataframe tbody tr th:only-of-type {\n",
              "        vertical-align: middle;\n",
              "    }\n",
              "\n",
              "    .dataframe tbody tr th {\n",
              "        vertical-align: top;\n",
              "    }\n",
              "\n",
              "    .dataframe thead th {\n",
              "        text-align: right;\n",
              "    }\n",
              "</style>\n",
              "<table border=\"1\" class=\"dataframe\">\n",
              "  <thead>\n",
              "    <tr style=\"text-align: right;\">\n",
              "      <th></th>\n",
              "      <th>text</th>\n",
              "      <th>label</th>\n",
              "    </tr>\n",
              "  </thead>\n",
              "  <tbody>\n",
              "    <tr>\n",
              "      <th>0</th>\n",
              "      <td>Donald Trump just couldn t wish all Americans ...</td>\n",
              "      <td>0</td>\n",
              "    </tr>\n",
              "    <tr>\n",
              "      <th>1</th>\n",
              "      <td>House Intelligence Committee Chairman Devin Nu...</td>\n",
              "      <td>0</td>\n",
              "    </tr>\n",
              "    <tr>\n",
              "      <th>2</th>\n",
              "      <td>On Friday, it was revealed that former Milwauk...</td>\n",
              "      <td>0</td>\n",
              "    </tr>\n",
              "    <tr>\n",
              "      <th>3</th>\n",
              "      <td>On Christmas day, Donald Trump announced that ...</td>\n",
              "      <td>0</td>\n",
              "    </tr>\n",
              "    <tr>\n",
              "      <th>4</th>\n",
              "      <td>Pope Francis used his annual Christmas Day mes...</td>\n",
              "      <td>0</td>\n",
              "    </tr>\n",
              "  </tbody>\n",
              "</table>\n",
              "</div>\n",
              "    <div class=\"colab-df-buttons\">\n",
              "\n",
              "  <div class=\"colab-df-container\">\n",
              "    <button class=\"colab-df-convert\" onclick=\"convertToInteractive('df-69b4b9be-ee56-41bd-975a-f17f002e097c')\"\n",
              "            title=\"Convert this dataframe to an interactive table.\"\n",
              "            style=\"display:none;\">\n",
              "\n",
              "  <svg xmlns=\"http://www.w3.org/2000/svg\" height=\"24px\" viewBox=\"0 -960 960 960\">\n",
              "    <path d=\"M120-120v-720h720v720H120Zm60-500h600v-160H180v160Zm220 220h160v-160H400v160Zm0 220h160v-160H400v160ZM180-400h160v-160H180v160Zm440 0h160v-160H620v160ZM180-180h160v-160H180v160Zm440 0h160v-160H620v160Z\"/>\n",
              "  </svg>\n",
              "    </button>\n",
              "\n",
              "  <style>\n",
              "    .colab-df-container {\n",
              "      display:flex;\n",
              "      gap: 12px;\n",
              "    }\n",
              "\n",
              "    .colab-df-convert {\n",
              "      background-color: #E8F0FE;\n",
              "      border: none;\n",
              "      border-radius: 50%;\n",
              "      cursor: pointer;\n",
              "      display: none;\n",
              "      fill: #1967D2;\n",
              "      height: 32px;\n",
              "      padding: 0 0 0 0;\n",
              "      width: 32px;\n",
              "    }\n",
              "\n",
              "    .colab-df-convert:hover {\n",
              "      background-color: #E2EBFA;\n",
              "      box-shadow: 0px 1px 2px rgba(60, 64, 67, 0.3), 0px 1px 3px 1px rgba(60, 64, 67, 0.15);\n",
              "      fill: #174EA6;\n",
              "    }\n",
              "\n",
              "    .colab-df-buttons div {\n",
              "      margin-bottom: 4px;\n",
              "    }\n",
              "\n",
              "    [theme=dark] .colab-df-convert {\n",
              "      background-color: #3B4455;\n",
              "      fill: #D2E3FC;\n",
              "    }\n",
              "\n",
              "    [theme=dark] .colab-df-convert:hover {\n",
              "      background-color: #434B5C;\n",
              "      box-shadow: 0px 1px 3px 1px rgba(0, 0, 0, 0.15);\n",
              "      filter: drop-shadow(0px 1px 2px rgba(0, 0, 0, 0.3));\n",
              "      fill: #FFFFFF;\n",
              "    }\n",
              "  </style>\n",
              "\n",
              "    <script>\n",
              "      const buttonEl =\n",
              "        document.querySelector('#df-69b4b9be-ee56-41bd-975a-f17f002e097c button.colab-df-convert');\n",
              "      buttonEl.style.display =\n",
              "        google.colab.kernel.accessAllowed ? 'block' : 'none';\n",
              "\n",
              "      async function convertToInteractive(key) {\n",
              "        const element = document.querySelector('#df-69b4b9be-ee56-41bd-975a-f17f002e097c');\n",
              "        const dataTable =\n",
              "          await google.colab.kernel.invokeFunction('convertToInteractive',\n",
              "                                                    [key], {});\n",
              "        if (!dataTable) return;\n",
              "\n",
              "        const docLinkHtml = 'Like what you see? Visit the ' +\n",
              "          '<a target=\"_blank\" href=https://colab.research.google.com/notebooks/data_table.ipynb>data table notebook</a>'\n",
              "          + ' to learn more about interactive tables.';\n",
              "        element.innerHTML = '';\n",
              "        dataTable['output_type'] = 'display_data';\n",
              "        await google.colab.output.renderOutput(dataTable, element);\n",
              "        const docLink = document.createElement('div');\n",
              "        docLink.innerHTML = docLinkHtml;\n",
              "        element.appendChild(docLink);\n",
              "      }\n",
              "    </script>\n",
              "  </div>\n",
              "\n",
              "\n",
              "<div id=\"df-eed7c65f-3bc3-4956-9274-00ddfbd26078\">\n",
              "  <button class=\"colab-df-quickchart\" onclick=\"quickchart('df-eed7c65f-3bc3-4956-9274-00ddfbd26078')\"\n",
              "            title=\"Suggest charts\"\n",
              "            style=\"display:none;\">\n",
              "\n",
              "<svg xmlns=\"http://www.w3.org/2000/svg\" height=\"24px\"viewBox=\"0 0 24 24\"\n",
              "     width=\"24px\">\n",
              "    <g>\n",
              "        <path d=\"M19 3H5c-1.1 0-2 .9-2 2v14c0 1.1.9 2 2 2h14c1.1 0 2-.9 2-2V5c0-1.1-.9-2-2-2zM9 17H7v-7h2v7zm4 0h-2V7h2v10zm4 0h-2v-4h2v4z\"/>\n",
              "    </g>\n",
              "</svg>\n",
              "  </button>\n",
              "\n",
              "<style>\n",
              "  .colab-df-quickchart {\n",
              "      --bg-color: #E8F0FE;\n",
              "      --fill-color: #1967D2;\n",
              "      --hover-bg-color: #E2EBFA;\n",
              "      --hover-fill-color: #174EA6;\n",
              "      --disabled-fill-color: #AAA;\n",
              "      --disabled-bg-color: #DDD;\n",
              "  }\n",
              "\n",
              "  [theme=dark] .colab-df-quickchart {\n",
              "      --bg-color: #3B4455;\n",
              "      --fill-color: #D2E3FC;\n",
              "      --hover-bg-color: #434B5C;\n",
              "      --hover-fill-color: #FFFFFF;\n",
              "      --disabled-bg-color: #3B4455;\n",
              "      --disabled-fill-color: #666;\n",
              "  }\n",
              "\n",
              "  .colab-df-quickchart {\n",
              "    background-color: var(--bg-color);\n",
              "    border: none;\n",
              "    border-radius: 50%;\n",
              "    cursor: pointer;\n",
              "    display: none;\n",
              "    fill: var(--fill-color);\n",
              "    height: 32px;\n",
              "    padding: 0;\n",
              "    width: 32px;\n",
              "  }\n",
              "\n",
              "  .colab-df-quickchart:hover {\n",
              "    background-color: var(--hover-bg-color);\n",
              "    box-shadow: 0 1px 2px rgba(60, 64, 67, 0.3), 0 1px 3px 1px rgba(60, 64, 67, 0.15);\n",
              "    fill: var(--button-hover-fill-color);\n",
              "  }\n",
              "\n",
              "  .colab-df-quickchart-complete:disabled,\n",
              "  .colab-df-quickchart-complete:disabled:hover {\n",
              "    background-color: var(--disabled-bg-color);\n",
              "    fill: var(--disabled-fill-color);\n",
              "    box-shadow: none;\n",
              "  }\n",
              "\n",
              "  .colab-df-spinner {\n",
              "    border: 2px solid var(--fill-color);\n",
              "    border-color: transparent;\n",
              "    border-bottom-color: var(--fill-color);\n",
              "    animation:\n",
              "      spin 1s steps(1) infinite;\n",
              "  }\n",
              "\n",
              "  @keyframes spin {\n",
              "    0% {\n",
              "      border-color: transparent;\n",
              "      border-bottom-color: var(--fill-color);\n",
              "      border-left-color: var(--fill-color);\n",
              "    }\n",
              "    20% {\n",
              "      border-color: transparent;\n",
              "      border-left-color: var(--fill-color);\n",
              "      border-top-color: var(--fill-color);\n",
              "    }\n",
              "    30% {\n",
              "      border-color: transparent;\n",
              "      border-left-color: var(--fill-color);\n",
              "      border-top-color: var(--fill-color);\n",
              "      border-right-color: var(--fill-color);\n",
              "    }\n",
              "    40% {\n",
              "      border-color: transparent;\n",
              "      border-right-color: var(--fill-color);\n",
              "      border-top-color: var(--fill-color);\n",
              "    }\n",
              "    60% {\n",
              "      border-color: transparent;\n",
              "      border-right-color: var(--fill-color);\n",
              "    }\n",
              "    80% {\n",
              "      border-color: transparent;\n",
              "      border-right-color: var(--fill-color);\n",
              "      border-bottom-color: var(--fill-color);\n",
              "    }\n",
              "    90% {\n",
              "      border-color: transparent;\n",
              "      border-bottom-color: var(--fill-color);\n",
              "    }\n",
              "  }\n",
              "</style>\n",
              "\n",
              "  <script>\n",
              "    async function quickchart(key) {\n",
              "      const quickchartButtonEl =\n",
              "        document.querySelector('#' + key + ' button');\n",
              "      quickchartButtonEl.disabled = true;  // To prevent multiple clicks.\n",
              "      quickchartButtonEl.classList.add('colab-df-spinner');\n",
              "      try {\n",
              "        const charts = await google.colab.kernel.invokeFunction(\n",
              "            'suggestCharts', [key], {});\n",
              "      } catch (error) {\n",
              "        console.error('Error during call to suggestCharts:', error);\n",
              "      }\n",
              "      quickchartButtonEl.classList.remove('colab-df-spinner');\n",
              "      quickchartButtonEl.classList.add('colab-df-quickchart-complete');\n",
              "    }\n",
              "    (() => {\n",
              "      let quickchartButtonEl =\n",
              "        document.querySelector('#df-eed7c65f-3bc3-4956-9274-00ddfbd26078 button');\n",
              "      quickchartButtonEl.style.display =\n",
              "        google.colab.kernel.accessAllowed ? 'block' : 'none';\n",
              "    })();\n",
              "  </script>\n",
              "</div>\n",
              "\n",
              "    </div>\n",
              "  </div>\n"
            ],
            "application/vnd.google.colaboratory.intrinsic+json": {
              "type": "dataframe",
              "variable_name": "df_fake",
              "summary": "{\n  \"name\": \"df_fake\",\n  \"rows\": 43642,\n  \"fields\": [\n    {\n      \"column\": \"text\",\n      \"properties\": {\n        \"dtype\": \"string\",\n        \"samples\": [\n          \"At this point, hearing that there has been violent attacks at rallies held by GOP presidential frontrunner Donald Trump is hardly surprising. His supporters are notoriously fanatical, and woe betide anyone who gets on their bad side   especially when they are all riled up and in the midst of listening to another blistering speech by the leader they look up to so much. So, to that end, here we are again, reading another news cycle of things gone awry at yet another Trump rally, this time in Tucson, Arizona.It appears that, as is par for the course at Trump events these days, there were bunches of protesters. Cell phone video has been making the rounds on social media that shows a man, apparently a protester, being brutally attacked by Trump s brute-like supporters. First, it appears that the man is punched, and then, when he is actually on the ground, he is stomped and kicked, until the authorities show up and break up the altercation.All the while, Trump continues to speak, making his already volatile crowd even more so. Here is the video, as tweeted out by NBC reporter Frank Thorp:VIOLENCE at another Donald Trump rally, this time in Tucson, AZ. Man hits and kicks protester: pic.twitter.com/7FWuSeE0Jt  Frank Thorp V (@frankthorpNBC) March 19, 2016And here is another video that seemingly shows Trump s own campaign manager roughing up a protester:Here is Donald Trump's campaign manager in the Tucson crowd grabbing the collar of a protester. pic.twitter.com/JZ9RntWlHY  Jacqueline Alemany (@JaxAlemany) March 19, 2016It should be damn frightening to ANYONE that the presidential frontrunner of a major American political party sincerely not only believes that this behavior is okay, but actively encourages it. This, ladies and gentlemen, is Donald Trump s America. Be afraid. Be very afraid.Featured image via video screen capture via Twitter\",\n          \"The US secret services have latched onto the fairy tales of Russian hackers and trolls in part to divert attention from the eavesdropping on [former President of\\u00a0 Brazil Dilma] Rousseff and others.\",\n          \"George Takei has been on a social media role since the start of the Trump era, providing astute commentary with a brilliant wit that has made him beloved to millions. His latest Twitter poem   something he does fairly often   might be one of my favorite posts of his yet.Here it is:The crisis has grown very direTrump threatens with fury and fireSo before war's begunAgainst Kim Jong-unWe'd better make Donnie retire  George Takei (@GeorgeTakei) August 9, 2017 The crisis has grown very dire Trump threatens with fury and fire So war s begun Against Kim Jong-un We d better make Donnie retire I d say we re all thinking something pretty similar! Or, at least, according to the latest polling, an overwhelming majority of us are (sorry Trump fans, but those are the facts).Here are a few of his other latest Twitter poems:You tweet us ad nauseumMueller's not tricked cause of 'emSo tweet your memoirsDuring years behind barsYou no doubt'll serve lots of 'em  George Takei (@GeorgeTakei) August 8, 2017Happy Bday oh dearest ObamaThanks for 8 yrs of no dramaFor your wisdom and strengthFor sparing no lengthAnd no daily national trauma  George Takei (@GeorgeTakei) August 5, 2017Things just went south in a hurryNow that they've sat a grand jurySubpoenas galoreI've popcorn. Want more?As karma unleashes its fury.  George Takei (@GeorgeTakei) August 4, 2017Putin tried this n that hackeeInstalling a personal lackeyIt's since come to passWe sanctioned his assWhile Trump is increasingly wacky  George Takei (@GeorgeTakei) August 2, 2017Keep it up, George! You can bet it pisses Trump off every time he sees one, considering how thin his skin is.Read more:Featured image via Stephen Lovekin/Getty Images for GLAAD\"\n        ],\n        \"num_unique_values\": 34078,\n        \"semantic_type\": \"\",\n        \"description\": \"\"\n      }\n    },\n    {\n      \"column\": \"label\",\n      \"properties\": {\n        \"dtype\": \"number\",\n        \"std\": 0,\n        \"min\": 0,\n        \"max\": 0,\n        \"samples\": [\n          0\n        ],\n        \"num_unique_values\": 1,\n        \"semantic_type\": \"\",\n        \"description\": \"\"\n      }\n    }\n  ]\n}"
            }
          },
          "metadata": {},
          "execution_count": 11
        }
      ],
      "source": [
        "df_fake['label']=0\n",
        "df_fake=df_fake.drop('Unnamed: 0',axis=1)\n",
        "df_fake.head()"
      ]
    },
    {
      "cell_type": "code",
      "execution_count": 12,
      "metadata": {
        "colab": {
          "base_uri": "https://localhost:8080/"
        },
        "id": "1N2joGwgb7AM",
        "outputId": "fca98c2d-caba-4e7a-a6dc-f83f2e95f4b5"
      },
      "outputs": [
        {
          "output_type": "stream",
          "name": "stdout",
          "text": [
            "<class 'pandas.core.frame.DataFrame'>\n",
            "Int64Index: 78617 entries, 0 to 43641\n",
            "Data columns (total 2 columns):\n",
            " #   Column  Non-Null Count  Dtype \n",
            "---  ------  --------------  ----- \n",
            " 0   text    78588 non-null  object\n",
            " 1   label   78617 non-null  int64 \n",
            "dtypes: int64(1), object(1)\n",
            "memory usage: 1.8+ MB\n"
          ]
        }
      ],
      "source": [
        "df=pd.concat([df_true,df_fake])\n",
        "df.info()"
      ]
    },
    {
      "cell_type": "code",
      "execution_count": 13,
      "metadata": {
        "colab": {
          "base_uri": "https://localhost:8080/"
        },
        "id": "zYgmeh-Wb6_l",
        "outputId": "56bd92cc-1265-4865-80a9-c8761cbc4f58"
      },
      "outputs": [
        {
          "output_type": "stream",
          "name": "stdout",
          "text": [
            "<class 'pandas.core.frame.DataFrame'>\n",
            "Int64Index: 78588 entries, 0 to 43641\n",
            "Data columns (total 2 columns):\n",
            " #   Column  Non-Null Count  Dtype \n",
            "---  ------  --------------  ----- \n",
            " 0   text    78588 non-null  object\n",
            " 1   label   78588 non-null  int64 \n",
            "dtypes: int64(1), object(1)\n",
            "memory usage: 1.8+ MB\n"
          ]
        }
      ],
      "source": [
        "df=df.dropna(how=\"any\")\n",
        "df.info()"
      ]
    },
    {
      "cell_type": "markdown",
      "metadata": {
        "id": "yhSiu26xkkT8"
      },
      "source": [
        "#DATA PREPROCESSING\n"
      ]
    },
    {
      "cell_type": "code",
      "execution_count": 14,
      "metadata": {
        "id": "oSLRZcQvcEKb"
      },
      "outputs": [],
      "source": [
        "y = df[\"label\"].values\n",
        "\n",
        "X = []\n",
        "stop_words = set(nltk.corpus.stopwords.words(\"english\"))\n",
        "tokenizer = nltk.tokenize.RegexpTokenizer(r'\\w+')\n",
        "for par in df[\"text\"].values:\n",
        "    tmp = []\n",
        "    sentences = nltk.sent_tokenize(par)\n",
        "    for sent in sentences:\n",
        "        sent = sent.lower()\n",
        "        tokens = tokenizer.tokenize(sent)\n",
        "        filtered_words = [w.strip() for w in tokens if w not in stop_words and len(w) > 1]\n",
        "        tmp.extend(filtered_words)\n",
        "    X.append(tmp)\n",
        "\n",
        "del df"
      ]
    },
    {
      "cell_type": "markdown",
      "metadata": {
        "id": "6-wVBKkioe_Q"
      },
      "source": [
        "#Why are word embeddings needed?\n",
        "\n",
        "Let us consider the two sentences – “You can scale your business.” and “You can grow your business.”. These two sentences have the same meaning. If we consider a vocabulary considering these two sentences, it will constitute of these words: {You, can, scale, grow, your, business}.\n",
        "\n",
        "A one-hot encoding of these words would create a vector of length 6. The encodings for each of the words would look like this:\n",
        "\n",
        "You: [1,0,0,0,0,0], Can: [0,1,0,0,0,0], Scale: [0,0,1,0,0,0], Grow: [0,0,0,1,0,0],\n",
        "\n",
        "Your: [0,0,0,0,1,0], Business: [0,0,0,0,0,1]\n",
        "\n",
        "In a 6-dimensional space, each word would occupy one of the dimensions, meaning that none of these words has any similarity with each other – irrespective of their literal meanings.\n",
        "\n",
        "#What is Word2Vec?\n",
        "\n",
        "Word2Vec creates vectors of the words that are distributed numerical representations of word features – these word features could comprise of words that represent the context of the individual words present in our vocabulary. Word embeddings eventually help in establishing the association of a word with another similar meaning word through the created vectors.\n",
        "\n",
        "As seen in the image below where word embeddings are plotted, similar meaning words are closer in space, indicating their semantic similarity.\n",
        "\n"
      ]
    },
    {
      "cell_type": "code",
      "execution_count": 15,
      "metadata": {
        "id": "a5cF5tAIcgTS"
      },
      "outputs": [],
      "source": [
        "EMBEDDING_DIM = 100\n",
        "\n",
        "w2v_model = gensim.models.Word2Vec(sentences=X, vector_size=EMBEDDING_DIM, window=5, min_count=1)"
      ]
    },
    {
      "cell_type": "code",
      "execution_count": 16,
      "metadata": {
        "colab": {
          "base_uri": "https://localhost:8080/"
        },
        "id": "ZWkphFXccgRu",
        "outputId": "ce04d8f8-88ec-4941-f281-35a55b3be91c"
      },
      "outputs": [
        {
          "output_type": "execute_result",
          "data": {
            "text/plain": [
              "240843"
            ]
          },
          "metadata": {},
          "execution_count": 16
        }
      ],
      "source": [
        "len(w2v_model.wv.index_to_key)"
      ]
    },
    {
      "cell_type": "code",
      "execution_count": 17,
      "metadata": {
        "colab": {
          "base_uri": "https://localhost:8080/"
        },
        "id": "bLDMYDZbcgPM",
        "outputId": "0f44501a-9645-41b4-dc21-2fea3eb7887c"
      },
      "outputs": [
        {
          "output_type": "execute_result",
          "data": {
            "text/plain": [
              "array([-2.966078  , -4.6406927 , -2.4255133 , -4.071283  ,  3.486987  ,\n",
              "       -1.6208813 , -1.2889459 , -2.8850842 ,  1.1669701 ,  1.7564597 ,\n",
              "       -1.8380997 ,  1.839906  , -1.233206  , -5.077506  , -0.3509664 ,\n",
              "       -0.9595799 ,  0.29786476,  0.08848439,  0.65796906, -1.4134893 ,\n",
              "        0.44847602, -4.264474  ,  2.076667  ,  2.8319893 , -4.6640854 ,\n",
              "        1.0710601 , -2.616486  ,  0.3790068 ,  0.4313095 ,  1.6131116 ,\n",
              "        1.6954169 ,  0.9917283 , -0.5358391 , -0.05901738,  0.72782505,\n",
              "       -0.56691146,  0.9264918 , -0.6967671 ,  0.6206248 ,  1.6305871 ,\n",
              "        0.29355037,  0.53867674,  2.0240824 , -0.8023878 ,  0.31348762,\n",
              "       -1.9338531 ,  2.1882555 ,  0.74304175,  3.457498  ,  2.4832132 ,\n",
              "        2.7947032 , -2.484145  ,  0.18389124, -1.2131317 ,  3.1832986 ,\n",
              "       -0.45664018,  0.4733263 , -2.8532765 ,  2.3210843 ,  3.6030245 ,\n",
              "        3.454812  ,  0.06643222,  3.7791975 , -1.7346486 ,  1.7753818 ,\n",
              "        2.5692692 ,  1.7499421 ,  1.3105063 , -3.0125182 , -0.65491724,\n",
              "       -2.8313203 , -2.4363792 , -0.8764235 , -0.95246506,  1.727136  ,\n",
              "        0.59292805, -0.14260979,  1.9041471 , -5.4943748 , -1.9241711 ,\n",
              "       -1.5789732 ,  0.1744545 , -0.1558183 ,  0.68847406,  1.0826757 ,\n",
              "       -3.355068  ,  0.6053394 , -2.363364  ,  0.06380294, -2.8057704 ,\n",
              "       -0.9494836 ,  2.0556304 ,  0.49632433, -0.9909786 ,  4.010528  ,\n",
              "       -6.312801  ,  0.5047746 , -4.8915386 ,  5.234918  ,  0.620778  ],\n",
              "      dtype=float32)"
            ]
          },
          "metadata": {},
          "execution_count": 17
        }
      ],
      "source": [
        "w2v_model.wv[\"war\"]"
      ]
    },
    {
      "cell_type": "code",
      "execution_count": 18,
      "metadata": {
        "colab": {
          "base_uri": "https://localhost:8080/"
        },
        "id": "nJGicGj5cgOX",
        "outputId": "306688f0-afd8-4ecd-aaac-286208bbd187"
      },
      "outputs": [
        {
          "output_type": "execute_result",
          "data": {
            "text/plain": [
              "[('diphtheria', 0.7193074822425842),\n",
              " ('viruses', 0.7167582511901855),\n",
              " ('influenza', 0.7013912796974182),\n",
              " ('opiate', 0.6761296391487122),\n",
              " ('virus', 0.6749815940856934),\n",
              " ('infectious', 0.6618561744689941),\n",
              " ('diseases', 0.6601148247718811),\n",
              " ('outbreaks', 0.6566354036331177),\n",
              " ('wannacry', 0.6548324227333069),\n",
              " ('curing', 0.653188169002533)]"
            ]
          },
          "metadata": {},
          "execution_count": 18
        }
      ],
      "source": [
        "w2v_model.wv.most_similar(\"pandemic\")"
      ]
    },
    {
      "cell_type": "code",
      "execution_count": 19,
      "metadata": {
        "colab": {
          "base_uri": "https://localhost:8080/"
        },
        "id": "XrvZc9SIck16",
        "outputId": "f6a2b182-3616-451d-824b-6b8f3447b8b3"
      },
      "outputs": [
        {
          "output_type": "execute_result",
          "data": {
            "text/plain": [
              "[('innovative', 0.7976557016372681),\n",
              " ('sustainable', 0.7352555394172668),\n",
              " ('technological', 0.7337977886199951),\n",
              " ('technology', 0.7210161685943604),\n",
              " ('entrepreneurship', 0.7112765908241272),\n",
              " ('development', 0.7003945112228394),\n",
              " ('partnerships', 0.6877335906028748),\n",
              " ('resource', 0.6753968000411987),\n",
              " ('innovations', 0.6673046946525574),\n",
              " ('competitiveness', 0.6638322472572327)]"
            ]
          },
          "metadata": {},
          "execution_count": 19
        }
      ],
      "source": [
        "w2v_model.wv.most_similar(\"innovation\")"
      ]
    },
    {
      "cell_type": "code",
      "execution_count": 20,
      "metadata": {
        "colab": {
          "base_uri": "https://localhost:8080/"
        },
        "id": "THfbezmEckz1",
        "outputId": "bc5f1e3c-8116-447e-faee-7c0a4fb18480"
      },
      "outputs": [
        {
          "output_type": "execute_result",
          "data": {
            "text/plain": [
              "[('hamlet', 0.7478677034378052),\n",
              " ('cafe', 0.7432850003242493),\n",
              " ('bandleader', 0.7368947863578796),\n",
              " ('drummer', 0.7196111679077148),\n",
              " ('disco', 0.7181655168533325),\n",
              " ('couture', 0.7098686099052429),\n",
              " ('café', 0.7086289525032043),\n",
              " ('mustache', 0.7027634382247925),\n",
              " ('whiskey', 0.7026732563972473),\n",
              " ('lagoon', 0.7021031975746155)]"
            ]
          },
          "metadata": {},
          "execution_count": 20
        }
      ],
      "source": [
        "w2v_model.wv.most_similar(positive=[\"beatles\",\"stones\", \"england\"])"
      ]
    },
    {
      "cell_type": "markdown",
      "metadata": {
        "id": "EkZCGZcRka7L"
      },
      "source": [
        "#Tokenization\n",
        "Tokenization is a common task in Natural Language Processing (NLP). It’s a fundamental step in both traditional NLP methods like Count Vectorizer and Advanced Deep Learning-based architectures like Transformers.\n",
        "\n",
        "Tokens are the building blocks of Natural Language.\n",
        "\n",
        "Tokenization is a way of separating a piece of text into smaller units called tokens. Here, tokens can be either words, characters, or subwords. Hence, tokenization can be broadly classified into 3 types – word, character, and subword (n-gram characters) tokenization.\n",
        "\n",
        "For example, consider the sentence: “Never give up”.\n",
        "\n",
        "The most common way of forming tokens is based on space. Assuming space as a delimiter, the tokenization of the sentence results in 3 tokens – Never-give-up. As each token is a word, it becomes an example of Word tokenization.\n",
        "\n",
        "Similarly, tokens can be either characters or subwords. For example, let us consider “smarter”:\n",
        "\n",
        "Character tokens: s-m-a-r-t-e-r Subword tokens: smart-er"
      ]
    },
    {
      "cell_type": "code",
      "execution_count": 21,
      "metadata": {
        "id": "ZD0DVt6bckyM"
      },
      "outputs": [],
      "source": [
        "tokenizer = Tokenizer()\n",
        "tokenizer.fit_on_texts(X)\n",
        "\n",
        "X = tokenizer.texts_to_sequences(X)"
      ]
    },
    {
      "cell_type": "code",
      "execution_count": 22,
      "metadata": {
        "colab": {
          "base_uri": "https://localhost:8080/"
        },
        "id": "a-xyXR8ackxi",
        "outputId": "8725c55d-32eb-47b9-f744-a19208b20557"
      },
      "outputs": [
        {
          "output_type": "execute_result",
          "data": {
            "text/plain": [
              "[357, 305, 35, 6887, 135, 781, 200, 1008, 2696, 52]"
            ]
          },
          "metadata": {},
          "execution_count": 22
        }
      ],
      "source": [
        "X[0][:10]"
      ]
    },
    {
      "cell_type": "code",
      "execution_count": 23,
      "metadata": {
        "colab": {
          "base_uri": "https://localhost:8080/"
        },
        "id": "FhYoEksrcuuv",
        "outputId": "34f4ef67-9473-4798-c0cc-9787091945a2"
      },
      "outputs": [
        {
          "output_type": "stream",
          "name": "stdout",
          "text": [
            "said -> 1\n",
            "trump -> 2\n",
            "would -> 3\n",
            "people -> 4\n",
            "president -> 5\n",
            "one -> 6\n",
            "mr -> 7\n",
            "clinton -> 8\n",
            "new -> 9\n",
            "also -> 10\n"
          ]
        }
      ],
      "source": [
        "word_index = tokenizer.word_index\n",
        "for word, num in word_index.items():\n",
        "    print(f\"{word} -> {num}\")\n",
        "    if num == 10:\n",
        "        break"
      ]
    },
    {
      "cell_type": "code",
      "execution_count": 24,
      "metadata": {
        "colab": {
          "base_uri": "https://localhost:8080/",
          "height": 430
        },
        "id": "lKf4QNJKcwsg",
        "outputId": "60d23ac0-b850-44ed-cf7c-e79309eacc49"
      },
      "outputs": [
        {
          "output_type": "display_data",
          "data": {
            "text/plain": [
              "<Figure size 640x480 with 1 Axes>"
            ],
            "image/png": "[encoded data removed]"
          },
          "metadata": {}
        }
      ],
      "source": [
        "plt.hist([len(x) for x in X], bins=500)\n",
        "plt.show()"
      ]
    },
    {
      "cell_type": "code",
      "execution_count": 25,
      "metadata": {
        "colab": {
          "base_uri": "https://localhost:8080/"
        },
        "id": "GE-9wgHDcyWO",
        "outputId": "6651e90a-d255-4981-eaa1-6cf7d990ddd1"
      },
      "outputs": [
        {
          "output_type": "execute_result",
          "data": {
            "text/plain": [
              "76721"
            ]
          },
          "metadata": {},
          "execution_count": 25
        }
      ],
      "source": [
        "nos = np.array([len(x) for x in X])\n",
        "len(nos[nos  < 1000])"
      ]
    },
    {
      "cell_type": "code",
      "execution_count": 26,
      "metadata": {
        "id": "cJf6UbTQczrp"
      },
      "outputs": [],
      "source": [
        "maxlen = 1000\n",
        "\n",
        "X = pad_sequences(X, maxlen=maxlen)\n"
      ]
    },
    {
      "cell_type": "code",
      "execution_count": 27,
      "metadata": {
        "colab": {
          "base_uri": "https://localhost:8080/"
        },
        "id": "AfpNZTyOc1n6",
        "outputId": "2597f021-2000-4186-fdc1-840741f33bc5"
      },
      "outputs": [
        {
          "output_type": "execute_result",
          "data": {
            "text/plain": [
              "1000"
            ]
          },
          "metadata": {},
          "execution_count": 27
        }
      ],
      "source": [
        "len(X[0])"
      ]
    },
    {
      "cell_type": "code",
      "execution_count": 28,
      "metadata": {
        "id": "UwE3mVLNc1nG"
      },
      "outputs": [],
      "source": [
        "vocab_size = len(tokenizer.word_index) + 1"
      ]
    },
    {
      "cell_type": "code",
      "execution_count": 29,
      "metadata": {
        "id": "Tbb-FWb3c8_e"
      },
      "outputs": [],
      "source": [
        "def get_weight_matrix(model, vocab):\n",
        "    vocab_size = len(vocab) + 1\n",
        "    weight_matrix = np.zeros((vocab_size, EMBEDDING_DIM))\n",
        "    for word, i in vocab.items():\n",
        "        weight_matrix[i] = model[word]\n",
        "    return weight_matrix"
      ]
    },
    {
      "cell_type": "markdown",
      "metadata": {
        "id": "u8dc1u30kW1q"
      },
      "source": [
        "#Modeling\n",
        "・Embedding vectors by word2vec for embbeding layer weight"
      ]
    },
    {
      "cell_type": "code",
      "execution_count": 30,
      "metadata": {
        "id": "ILgjfe_ac_bu"
      },
      "outputs": [],
      "source": [
        "embedding_vectors = get_weight_matrix(w2v_model.wv, word_index)"
      ]
    },
    {
      "cell_type": "code",
      "execution_count": 31,
      "metadata": {
        "id": "l3rayXvhdBnk"
      },
      "outputs": [],
      "source": [
        "model = Sequential()\n",
        "model.add(Embedding(vocab_size, output_dim=EMBEDDING_DIM, weights=[embedding_vectors], input_length=maxlen, trainable=False))\n",
        "model.add(LSTM(units=128))\n",
        "model.add(Dense(1, activation='sigmoid'))\n",
        "model.compile(optimizer='adam', loss='binary_crossentropy', metrics=['acc'])\n",
        "\n",
        "del embedding_vectors"
      ]
    },
    {
      "cell_type": "code",
      "execution_count": 32,
      "metadata": {
        "colab": {
          "base_uri": "https://localhost:8080/"
        },
        "id": "ktzsTK-tdDD3",
        "outputId": "f4fc41f6-d59b-43bf-b93c-e8c713bbf2cb"
      },
      "outputs": [
        {
          "output_type": "stream",
          "name": "stdout",
          "text": [
            "Model: \"sequential\"\n",
            "_________________________________________________________________\n",
            " Layer (type)                Output Shape              Param #   \n",
            "=================================================================\n",
            " embedding (Embedding)       (None, 1000, 100)         24084400  \n",
            "                                                                 \n",
            " lstm (LSTM)                 (None, 128)               117248    \n",
            "                                                                 \n",
            " dense (Dense)               (None, 1)                 129       \n",
            "                                                                 \n",
            "=================================================================\n",
            "Total params: 24201777 (92.32 MB)\n",
            "Trainable params: 117377 (458.50 KB)\n",
            "Non-trainable params: 24084400 (91.87 MB)\n",
            "_________________________________________________________________\n"
          ]
        }
      ],
      "source": [
        "model.summary()"
      ]
    },
    {
      "cell_type": "code",
      "execution_count": 33,
      "metadata": {
        "id": "Drfx1qNxdF1W"
      },
      "outputs": [],
      "source": [
        "X_train, X_test, y_train, y_test = train_test_split(X, y)"
      ]
    },
    {
      "cell_type": "code",
      "execution_count": 34,
      "metadata": {
        "colab": {
          "base_uri": "https://localhost:8080/"
        },
        "id": "ntFsALeqdFzi",
        "outputId": "c7c2e0c6-33b3-48d2-e421-03037abd4ebb"
      },
      "outputs": [
        {
          "output_type": "stream",
          "name": "stdout",
          "text": [
            "Epoch 1/2\n",
            "1290/1290 [==============================] - 56s 41ms/step - loss: 0.2367 - acc: 0.9054 - val_loss: 0.1575 - val_acc: 0.9431\n",
            "Epoch 2/2\n",
            "1290/1290 [==============================] - 64s 49ms/step - loss: 0.1189 - acc: 0.9562 - val_loss: 0.1060 - val_acc: 0.9618\n"
          ]
        },
        {
          "output_type": "execute_result",
          "data": {
            "text/plain": [
              "<keras.src.callbacks.History at 0x78d7d2047370>"
            ]
          },
          "metadata": {},
          "execution_count": 34
        }
      ],
      "source": [
        "model.fit(X_train, y_train, validation_split=0.3, epochs=2, batch_size=32)"
      ]
    },
    {
      "cell_type": "code",
      "execution_count": 35,
      "metadata": {
        "colab": {
          "base_uri": "https://localhost:8080/"
        },
        "id": "dfFq1OApdFxL",
        "outputId": "34741833-0577-4378-f4c2-020450229095"
      },
      "outputs": [
        {
          "output_type": "stream",
          "name": "stdout",
          "text": [
            "614/614 [==============================] - 10s 15ms/step\n"
          ]
        }
      ],
      "source": [
        "y_pred = (model.predict(X_test) >= 0.5).astype(\"int\")"
      ]
    },
    {
      "cell_type": "code",
      "execution_count": 36,
      "metadata": {
        "id": "00ZgJI2BpJDs",
        "colab": {
          "base_uri": "https://localhost:8080/"
        },
        "outputId": "13f4410e-8efb-465c-dba5-c713e79b66fd"
      },
      "outputs": [
        {
          "output_type": "stream",
          "name": "stdout",
          "text": [
            "[[0]\n",
            " [0]\n",
            " [0]\n",
            " ...\n",
            " [1]\n",
            " [1]\n",
            " [0]]\n"
          ]
        }
      ],
      "source": [
        "print(y_pred)"
      ]
    },
    {
      "cell_type": "code",
      "execution_count": 37,
      "metadata": {
        "colab": {
          "base_uri": "https://localhost:8080/"
        },
        "id": "-PkXfawsdFvL",
        "outputId": "cf4dd5a7-6400-4869-a76c-1437610f1b69"
      },
      "outputs": [
        {
          "output_type": "execute_result",
          "data": {
            "text/plain": [
              "0.9611136560289103"
            ]
          },
          "metadata": {},
          "execution_count": 37
        }
      ],
      "source": [
        "accuracy_score(y_test, y_pred)"
      ]
    },
    {
      "cell_type": "code",
      "execution_count": 38,
      "metadata": {
        "colab": {
          "base_uri": "https://localhost:8080/"
        },
        "id": "bTMp0ufFdFuV",
        "outputId": "d692841b-fe87-404e-dc21-25ff223c8bd8"
      },
      "outputs": [
        {
          "output_type": "stream",
          "name": "stdout",
          "text": [
            "              precision    recall  f1-score   support\n",
            "\n",
            "           0       0.97      0.96      0.96     10872\n",
            "           1       0.95      0.96      0.96      8775\n",
            "\n",
            "    accuracy                           0.96     19647\n",
            "   macro avg       0.96      0.96      0.96     19647\n",
            "weighted avg       0.96      0.96      0.96     19647\n",
            "\n"
          ]
        }
      ],
      "source": [
        "print(classification_report(y_test, y_pred))"
      ]
    },
    {
      "cell_type": "code",
      "execution_count": 39,
      "metadata": {
        "id": "2lM6HV7hd65z"
      },
      "outputs": [],
      "source": [
        "model.save('Truth_Detector_WorkShop.h5')"
      ]
    }
  ],
  "metadata": {
    "accelerator": "GPU",
    "colab": {
      "gpuType": "T4",
      "provenance": []
    },
    "kernelspec": {
      "display_name": "Python 3",
      "name": "python3"
    },
    "language_info": {
      "name": "python"
    }
  },
  "nbformat": 4,
  "nbformat_minor": 0
}